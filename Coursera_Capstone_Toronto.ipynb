{
    "nbformat_minor": 1, 
    "cells": [
        {
            "source": "# Greeting! \n## This Note Book Would mainly be used for the fullfilment of the capstone projects to come ", 
            "cell_type": "markdown", 
            "metadata": {
                "collapsed": true
            }
        }, 
        {
            "execution_count": 2, 
            "cell_type": "code", 
            "metadata": {}, 
            "outputs": [], 
            "source": "import pandas as pd\nimport numpy as np"
        }, 
        {
            "execution_count": 4, 
            "cell_type": "code", 
            "metadata": {}, 
            "outputs": [
                {
                    "output_type": "stream", 
                    "name": "stdout", 
                    "text": "Hello Capstone Project Course !\n"
                }
            ], 
            "source": "print('Hello Capstone Project Course !')"
        }, 
        {
            "source": "# After importing we Extract and create clusters", 
            "cell_type": "markdown", 
            "metadata": {}
        }, 
        {
            "execution_count": 6, 
            "cell_type": "code", 
            "metadata": {}, 
            "outputs": [
                {
                    "execution_count": 6, 
                    "metadata": {}, 
                    "data": {
                        "text/plain": "0"
                    }, 
                    "output_type": "execute_result"
                }
            ], 
            "source": "import pandas as pd\nimport numpy as np\nimport requests\n\nfrom bs4 import BeautifulSoup\n\n\nsource = requests.get('https://en.wikipedia.org/wiki/List_of_postal_codes_of_Canada:_M').text\n\nsoup = BeautifulSoup(source, 'html5lib')\n\npostal_codes_dict = {} # initialize an empty dictionary to save the data in\nfor table_cell in soup.find_all('td'):\n    try:\n        postal_code = table_cell.p.b.text # get the postal code\n        postal_code_investigate = table_cell.span.text\n        neighborhoods_data = table_cell.span.text # get the rest of the data in the cell\n        borough = neighborhoods_data.split('(')[0] # get the borough in the cell\n        \n        # if the cell is not assigned then ignore it\n        if neighborhoods_data == 'Not assigned':\n            neighborhoods = []\n        # else process the data and add it to the dictionary\n        else:\n            postal_codes_dict[postal_code] = {}\n            \n            try:\n                neighborhoods = neighborhoods_data.split('(')[1]\n            \n                # remove parantheses from neighborhoods string\n                neighborhoods = neighborhoods.replace('(', ' ')\n                neighborhoods = neighborhoods.replace(')', ' ')\n\n                neighborhoods_names = neighborhoods.split('/')\n                neighborhoods_clean = ', '.join([name.strip() for name in neighborhoods_names])\n            except:\n                borough = borough.strip('\\n')\n                neighborhoods_clean = borough\n \n            # add borough and neighborhood to dictionary\n            postal_codes_dict[postal_code]['borough'] = borough\n            postal_codes_dict[postal_code]['neighborhoods'] = neighborhoods_clean\n    except:\n        pass\n    \n# create an empty dataframe\ncolumns = ['PostalCode', 'Borough', 'Neighborhood']\ntoronto_data = pd.DataFrame(columns=columns)\ntoronto_data\n\n# populate dataframe with data from dictionary\nfor ind, postal_code in enumerate(postal_codes_dict):\n    borough = postal_codes_dict[postal_code]['borough']\n    neighborhood = postal_codes_dict[postal_code]['neighborhoods']\n    toronto_data = toronto_data.append({\"PostalCode\": postal_code, \n                                        \"Borough\": borough, \n                                        \"Neighborhood\": neighborhood},\n                                        ignore_index=True)\n\n# print number of rows of dataframe\ntoronto_data.shape[0]"
        }, 
        {
            "source": "# We know Call the geocoder", 
            "cell_type": "markdown", 
            "metadata": {}
        }, 
        {
            "execution_count": 7, 
            "cell_type": "code", 
            "metadata": {}, 
            "outputs": [
                {
                    "ename": "ImportError", 
                    "evalue": "No module named 'geocoder'", 
                    "traceback": [
                        "\u001b[0;31m---------------------------------------------------------------------------\u001b[0m", 
                        "\u001b[0;31mImportError\u001b[0m                               Traceback (most recent call last)", 
                        "\u001b[0;32m<ipython-input-7-f9a1a3d479bb>\u001b[0m in \u001b[0;36m<module>\u001b[0;34m()\u001b[0m\n\u001b[0;32m----> 1\u001b[0;31m \u001b[0;32mimport\u001b[0m \u001b[0mgeocoder\u001b[0m \u001b[0;31m# import geocoder\u001b[0m\u001b[0;34m\u001b[0m\u001b[0m\n\u001b[0m\u001b[1;32m      2\u001b[0m \u001b[0;34m\u001b[0m\u001b[0m\n\u001b[1;32m      3\u001b[0m \u001b[0;31m# initialize your variable to None\u001b[0m\u001b[0;34m\u001b[0m\u001b[0;34m\u001b[0m\u001b[0m\n\u001b[1;32m      4\u001b[0m \u001b[0mlat_lng_coords\u001b[0m \u001b[0;34m=\u001b[0m \u001b[0;32mNone\u001b[0m\u001b[0;34m\u001b[0m\u001b[0m\n\u001b[1;32m      5\u001b[0m \u001b[0;34m\u001b[0m\u001b[0m\n", 
                        "\u001b[0;31mImportError\u001b[0m: No module named 'geocoder'"
                    ], 
                    "output_type": "error"
                }
            ], 
            "source": "import geocoder # import geocoder\n\n# initialize your variable to None\nlat_lng_coords = None\n\n# loop until you get the coordinates\nwhile(lat_lng_coords is None):\n  g = geocoder.google('{}, Toronto, Ontario'.format(postal_code))\n  lat_lng_coords = g.latlng\n\nlatitude = lat_lng_coords[0]\nlongitude = lat_lng_coords[1]"
        }, 
        {
            "execution_count": null, 
            "cell_type": "code", 
            "metadata": {}, 
            "outputs": [], 
            "source": ""
        }
    ], 
    "metadata": {
        "kernelspec": {
            "display_name": "Python 3.5", 
            "name": "python3", 
            "language": "python"
        }, 
        "language_info": {
            "mimetype": "text/x-python", 
            "nbconvert_exporter": "python", 
            "version": "3.5.5", 
            "name": "python", 
            "file_extension": ".py", 
            "pygments_lexer": "ipython3", 
            "codemirror_mode": {
                "version": 3, 
                "name": "ipython"
            }
        }
    }, 
    "nbformat": 4
}