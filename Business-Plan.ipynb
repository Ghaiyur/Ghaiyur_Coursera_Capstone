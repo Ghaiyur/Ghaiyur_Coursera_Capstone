{
    "nbformat_minor": 1, 
    "cells": [
        {
            "source": "# Hello Visitor!", 
            "cell_type": "markdown", 
            "metadata": {
                "collapsed": true
            }
        }, 
        {
            "source": "### Introduction \n\nIn this notbook we will discuss the merits of a pet cafe and looking through the trends that are followed by more popular and established cafes", 
            "cell_type": "markdown", 
            "metadata": {}
        }, 
        {
            "source": "### Below are some Case studies for 3 pet kinds", 
            "cell_type": "markdown", 
            "metadata": {}
        }, 
        {
            "source": "## Dogs\n\n#### Case study: Sarah Wolfgang, owner of The Dog Cafe in Los Angeles\n\n#### How it's funded: \"Everybody loved the idea, but few people would invest in our crowdfunding campaign. After months, we locked in a private investor who wanted to make a difference in the number of animals being euthanized.\"\n\n#### Red-tape triumph: \"The health department said it would never be approved. I spent months negotiating. I even hired an architect to draw blueprints for our submission. It was a proud moment, right before our opening, when we earned our A grade!\"\n\n#### The business model: \"It's built on a combination of American cat caf\u00e9s, which often charge an entrance fee, and Korean dog caf\u00e9s, which generate revenue like a regular caf\u00e9. We sell reservations online, and drinks and merchandise in our caf\u00e9.\"\n\n#### What's next: \"It bothers me when people with little to no animal-rescue experience come in asking how they can open up a dog caf\u00e9 in their city. Our focus is to transform how America views shelter animals and how people meet their future pets, not to start a trend.\"\n\n#### Related: Become a Pet-Sitter or Dog-Walker\n\n## Cats\n\nCase study: Kristin Eissler, owner of Kawaii Kitty Cafe in Philadelphia\n\nHow it's funded: \"My Indiegogo campaign raised $20,000, but this project was immensely more expensive than I could have imagined. The crowdfunding money covered only the city fees, architect's fees and plan review fees. Construction and design came from personal savings.\"\n\nRed-tape triumph: \"Cat caf\u00e9s fall in a gray area of zoning law, so most of our delays were in acquiring permits. Two were rejected after our first submission, which starts the application time over, plus adds additional fees.\"\n\nThe business model: \"We allow 10 people at a time in the caf\u00e9 for one-hour intervals. We don't want the cats to become stressed due to high volumes of people. We'll also be doing bimonthly events -- like cat-and-wine nights and movie nights.\"\n\nWhat's next: \"Animal caf\u00e9s have changed the way we think about the food service industry. If your business can have animals and food under one roof, anything is possible!\"\n\nRelated: How to Start a Pet Business\n\n## Birds\n\nCase study: Michele and Erik Wolf, owners of The Perch in Colorado Springs\n\nHow it's funded: \"Primarily through savings. We already owned the building, but new signage and awnings, floor, equipment, retail fixtures, inventory, marketing materials, etc., were a considerable cost.\"\n\nRed-tape triumph: \"A board of health inspector said we'd have close to zero chance of getting a food service license. The laws allow us to serve hot brewed drinks like tea and coffee, canned and bottled drinks and prepackaged food without a license, so we went that route.\"\n\nThe business model: \"We sell the cages, play stands, perches, food, toys and treats that bird adopters want. Customers seem happy to give us that business because they know the money helps rescue birds.\"\n\nWhat's next: \"Our long-term sustainability is in building a community and regular customer base. Even though our items can be purchased online, we've found that people love the experience of coming to the store.\"", 
            "cell_type": "markdown", 
            "metadata": {}
        }, 
        {
            "source": "## We will be focusing only on where the highest number of cafes are for this project", 
            "cell_type": "markdown", 
            "metadata": {}
        }, 
        {
            "execution_count": null, 
            "cell_type": "code", 
            "metadata": {}, 
            "outputs": [], 
            "source": ""
        }
    ], 
    "metadata": {
        "kernelspec": {
            "display_name": "Python 3.5", 
            "name": "python3", 
            "language": "python"
        }, 
        "language_info": {
            "mimetype": "text/x-python", 
            "nbconvert_exporter": "python", 
            "version": "3.5.5", 
            "name": "python", 
            "file_extension": ".py", 
            "pygments_lexer": "ipython3", 
            "codemirror_mode": {
                "version": 3, 
                "name": "ipython"
            }
        }
    }, 
    "nbformat": 4
}